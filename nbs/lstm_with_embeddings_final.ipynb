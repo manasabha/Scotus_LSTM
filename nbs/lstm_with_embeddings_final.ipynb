{
 "cells": [
  {
   "cell_type": "markdown",
   "metadata": {},
   "source": [
    "Modeling Supreme Court Behaviour using Embeddings and LSTMs'\n",
    "In the previous notebook, we were trying to use sequence modeling to predict the votes of justices of the Supreme Court of the United States of America. We were able to achieve an accuracy of 82.07% which was still better than the current state=of-the-art, 71.9%.\n",
    "\n",
    "In this notebook, we will try something much simpler and much more efficient. We will create embeddings for all the categorical variables. The model will then take such high dimensional embedding vectors as inputs. The reason behind this methodology is that the model can learn some complex relationship between the features in a higher dimensional space."
   ]
  },
  {
   "cell_type": "code",
   "execution_count": 3,
   "metadata": {},
   "outputs": [],
   "source": [
    "%matplotlib inline\n",
    "from __future__ import division,print_function\n",
    "import gc,re\n",
    "import os\n",
    "os.environ[\"KERAS_BACKEND\"] = \"tensorflow\"\n",
    "import keras; import keras.backend\n",
    "\n",
    "from keras.applications.resnet50 import ResNet50\n",
    "from keras.preprocessing import image\n",
    "from keras.applications.resnet50 import preprocess_input\n",
    "import numpy as np\n",
    "\n",
    "from keras.models import Model\n",
    "from keras.layers import Flatten, Dense, Dropout, Input, LSTM, GRU, Embedding, Convolution1D, MaxPooling1D, MaxPool1D,TimeDistributed\n",
    "from keras.optimizers import Adam, RMSprop\n",
    "from keras.layers.normalization import BatchNormalization\n",
    "from keras.utils import to_categorical\n",
    "from keras.callbacks import ModelCheckpoint\n",
    "\n",
    "from importlib import reload\n",
    "from keras import backend as K\n",
    "from keras.datasets import imdb\n",
    "from keras.models import load_model\n",
    "import sklearn\n",
    "from sklearn.metrics import confusion_matrix\n",
    "\n",
    "import pandas\n",
    "import os, json\n",
    "import numpy as np\n",
    "np.set_printoptions(precision=4, linewidth=100)\n",
    "from matplotlib import pyplot as plt\n",
    "from keras.layers.merge import Add,Dot,Concatenate"
   ]
  },
  {
   "cell_type": "code",
   "execution_count": 4,
   "metadata": {
    "collapsed": true
   },
   "outputs": [],
   "source": [
    "# Get raw data\n",
    "raw_data = pandas.read_hdf(\"raw_data_legacy.hdf.gz\", \"root\")\n",
    "feature_df = pandas.read_hdf(\"feature_data_legacy.hdf.gz\", \"root\")\n"
   ]
  },
  {
   "cell_type": "code",
   "execution_count": 5,
   "metadata": {
    "collapsed": true
   },
   "outputs": [],
   "source": [
    "np.random.seed(7)"
   ]
  },
  {
   "cell_type": "code",
   "execution_count": 6,
   "metadata": {},
   "outputs": [
    {
     "data": {
      "text/plain": [
       "64"
      ]
     },
     "execution_count": 6,
     "metadata": {},
     "output_type": "execute_result"
    }
   ],
   "source": [
    "#There are 64 features including output variables\n",
    "len(raw_data.columns)"
   ]
  },
  {
   "cell_type": "markdown",
   "metadata": {},
   "source": [
    "## Prepare Data"
   ]
  },
  {
   "cell_type": "markdown",
   "metadata": {},
   "source": [
    "Now, from this raw_data, we need to remove all the output variables, i.e. any such variable which gets populated after the decision has been made by the Supreme Court. This is because, at test time, we wont be having access to such variables.\n",
    "\n",
    "Our target vector in this case is 'justice_outcome_disposition' which can take three values : affirm/reverse/no_opinion."
   ]
  },
  {
   "cell_type": "code",
   "execution_count": 7,
   "metadata": {},
   "outputs": [
    {
     "data": {
      "text/plain": [
       "array([ -1.,   1.,   0.,  nan])"
      ]
     },
     "execution_count": 7,
     "metadata": {},
     "output_type": "execute_result"
    }
   ],
   "source": [
    "#Use unique to get possible values for each feature\n",
    "raw_data['case_outcome_disposition'].unique()"
   ]
  },
  {
   "cell_type": "code",
   "execution_count": 8,
   "metadata": {},
   "outputs": [
    {
     "data": {
      "text/plain": [
       "1725"
      ]
     },
     "execution_count": 8,
     "metadata": {},
     "output_type": "execute_result"
    }
   ],
   "source": [
    "feature_df_names = feature_df.columns\n",
    "len(feature_df_names)"
   ]
  },
  {
   "cell_type": "markdown",
   "metadata": {},
   "source": [
    "Remove all the outcome variables mentioned on SCDB website, to prevent model from learning any internal dependencies in these. Out final predictions are for \"case_outcome_disposition\"."
   ]
  },
  {
   "cell_type": "code",
   "execution_count": 9,
   "metadata": {
    "collapsed": true
   },
   "outputs": [],
   "source": [
    "outcome = ['decisionType','declarationUncon','caseDisposition','case_outcome_disposition',\\\n",
    "           'partyWinning','caseDispositionUnusual','precedentAlteration','justice_outcome_disposition',\\\n",
    "           'splitVote','majVotes','vote','minVotes',\\\n",
    "          'firstAgreement','secondAgreement','opinion','direction', 'voteUnclear']"
   ]
  },
  {
   "cell_type": "markdown",
   "metadata": {},
   "source": [
    "Create Target and drop all the outcome variables from the dataframe. After this operation, we see that we are only left with 47 features. This is as opposed to 1481 features in the previous notebook : we have reduced the feauture space almost 31 times."
   ]
  },
  {
   "cell_type": "code",
   "execution_count": 10,
   "metadata": {},
   "outputs": [
    {
     "data": {
      "text/plain": [
       "(249793, 47)"
      ]
     },
     "execution_count": 10,
     "metadata": {},
     "output_type": "execute_result"
    }
   ],
   "source": [
    "whole_data = raw_data.copy()\n",
    "target = whole_data['justice_outcome_disposition']\n",
    "whole_data.drop(outcome,axis=1, inplace=True)\n",
    "\n",
    "whole_data.shape"
   ]
  },
  {
   "cell_type": "markdown",
   "metadata": {},
   "source": [
    "Let us see the feautures we will be training our model on."
   ]
  },
  {
   "cell_type": "code",
   "execution_count": 11,
   "metadata": {},
   "outputs": [
    {
     "data": {
      "text/plain": [
       "Index(['caseId', 'docketId', 'caseIssuesId', 'voteId', 'dateDecision',\n",
       "       'usCite', 'sctCite', 'ledCite', 'lexisCite', 'term', 'naturalCourt',\n",
       "       'chief', 'docket', 'caseName', 'dateArgument', 'dateRearg',\n",
       "       'petitioner', 'petitionerState', 'respondent', 'respondentState',\n",
       "       'jurisdiction', 'adminAction', 'adminActionState', 'threeJudgeFdc',\n",
       "       'caseOrigin', 'caseOriginState', 'caseSource', 'caseSourceState',\n",
       "       'lcDisagreement', 'certReason', 'lcDisposition',\n",
       "       'lcDispositionDirection', 'issue', 'issueArea', 'decisionDirection',\n",
       "       'decisionDirectionDissent', 'authorityDecision1', 'authorityDecision2',\n",
       "       'lawType', 'lawSupp', 'lawMinor', 'majOpinWriter', 'majOpinAssigner',\n",
       "       'justice', 'justiceName', 'majority', 'lc_case_outcome_disposition'],\n",
       "      dtype='object')"
      ]
     },
     "execution_count": 11,
     "metadata": {},
     "output_type": "execute_result"
    }
   ],
   "source": [
    "feature_names = whole_data.columns\n",
    "feature_names"
   ]
  },
  {
   "cell_type": "markdown",
   "metadata": {},
   "source": [
    "Some preprocessing on the data before creating embedding :\n",
    "\n",
    "1. Fill all nan with -10\n",
    "2. Create a dictionary by giving a number to each possibly unique value of the feature. The reason we are doing this is, the unique values for a feature can take any sort of value. For eg, unique values in caseIDs are like 1791-001, 1791-003 etc. What we want to do instead is assign consecutive numeric integers to each unique value in a feature. Since the features are categorical, we are not concerned with their specific value, we just need each specific value to be different."
   ]
  },
  {
   "cell_type": "code",
   "execution_count": 12,
   "metadata": {},
   "outputs": [
    {
     "data": {
      "text/plain": [
       "47"
      ]
     },
     "execution_count": 12,
     "metadata": {},
     "output_type": "execute_result"
    }
   ],
   "source": [
    "list_dict = []\n",
    "for feature in feature_names:\n",
    "    whole_data[feature] = whole_data[feature].fillna(-10)\n",
    "    n_features = whole_data[feature].unique()\n",
    "    feature2idx = {o : i for i,o in enumerate(n_features)}\n",
    "    list_dict.append(feature2idx)\n",
    "len(list_dict)"
   ]
  },
  {
   "cell_type": "markdown",
   "metadata": {},
   "source": [
    "Now that we have the mapping of each unique value of a feature to some consecutive integers, we can replace all values in main dataframe with new numerical values."
   ]
  },
  {
   "cell_type": "code",
   "execution_count": 13,
   "metadata": {
    "collapsed": true
   },
   "outputs": [],
   "source": [
    "for i,feature in enumerate(feature_names):\n",
    "    whole_data[feature] = whole_data[feature].apply(lambda x : list_dict[i][x])"
   ]
  },
  {
   "cell_type": "code",
   "execution_count": 14,
   "metadata": {},
   "outputs": [
    {
     "data": {
      "text/plain": [
       "array([0, 1, 2, 3, 4, 5, 6, 7, 8], dtype=int64)"
      ]
     },
     "execution_count": 14,
     "metadata": {},
     "output_type": "execute_result"
    }
   ],
   "source": [
    "whole_data['lawType'].unique()"
   ]
  },
  {
   "cell_type": "markdown",
   "metadata": {},
   "source": [
    "For Stateful LSTM, we need size of data to be divisible by batch size. \n",
    "Since batch size was chosen as 512 and 0.8(4/5) (train and validation split) should divide train data size.\n",
    "This intuition combined with trail and error to keep the split close to 85%, following values were chosen.\n"
   ]
  },
  {
   "cell_type": "code",
   "execution_count": 15,
   "metadata": {
    "collapsed": true
   },
   "outputs": [],
   "source": [
    "data = whole_data.as_matrix()\n",
    "rows = round(0.87112*len(data))\n",
    "X_train = data[0:rows]\n",
    "X_test = data[rows:len(data)]\n",
    "y_train = target[0:rows]\n",
    "y_test = target[rows:len(data)]\n",
    "\n",
    "y_train = to_categorical(y_train, num_classes=3)\n",
    "y_test = to_categorical(y_test, num_classes=3)"
   ]
  },
  {
   "cell_type": "code",
   "execution_count": 16,
   "metadata": {},
   "outputs": [
    {
     "name": "stdout",
     "output_type": "stream",
     "text": [
      "(217600, 47) (32193, 47) (217600, 3) (32193, 3)\n"
     ]
    }
   ],
   "source": [
    "print(X_train.shape, X_test.shape, y_train.shape, y_test.shape)"
   ]
  },
  {
   "cell_type": "code",
   "execution_count": 17,
   "metadata": {},
   "outputs": [
    {
     "data": {
      "text/plain": [
       "47"
      ]
     },
     "execution_count": 17,
     "metadata": {},
     "output_type": "execute_result"
    }
   ],
   "source": [
    "list_of_inputs = []\n",
    "for i,feature in enumerate(feature_names):\n",
    "    list_of_inputs.append(X_train[:,i])\n",
    "len(list_of_inputs)\n"
   ]
  },
  {
   "cell_type": "code",
   "execution_count": 18,
   "metadata": {},
   "outputs": [
    {
     "name": "stdout",
     "output_type": "stream",
     "text": [
      "(31744,)\n"
     ]
    }
   ],
   "source": [
    "list_of_inputs_test = []\n",
    "for i,feature in enumerate(feature_names):\n",
    "    list_of_inputs_test.append(X_test[:31744,i])\n",
    "len(list_of_inputs_test)\n",
    "y_test = target[rows:rows+31744]\n",
    "y_test_cat = keras.utils.to_categorical(y_test, num_classes=3)\n",
    "print(y_test.shape)\n"
   ]
  },
  {
   "cell_type": "code",
   "execution_count": 19,
   "metadata": {
    "collapsed": true
   },
   "outputs": [],
   "source": [
    " def create_embedding_and_input_layers(embedding_size_list,batch_size,is_stateful):\n",
    "        '''\n",
    "        Create an Input and Embedding Layer for each of the categorical features.\n",
    "        Concatenate all the embeddings.\n",
    "        Keras Graph was created with the input layer composed of inputs list.\n",
    "        So we return a combined list of inputs for each embedding size value.\n",
    "        ip: embedding_size_list: list with embedding sizes to try\n",
    "        op: Layers with input and concatenated embeddings.\n",
    "        '''\n",
    "        final_embedding_layer_list=[]\n",
    "        inputs_all=[]\n",
    "        for EMB_LEN in embedding_size_list:\n",
    "            inputs=[]\n",
    "            embeddings = []\n",
    "            for feature in feature_names:\n",
    "                if(is_stateful):\n",
    "                    inp = Input(shape=(1,), name=feature, batch_shape=(batch_size,1))\n",
    "                else:\n",
    "                    inp = Input(shape=(1,), name=feature)                    \n",
    "                n_features = whole_data[feature].nunique()\n",
    "                emb_name = 'emb_'+feature\n",
    "                emb = Embedding(n_features, EMB_LEN, input_length=1, name=emb_name)(inp)\n",
    "                inputs.append(inp)\n",
    "                embeddings.append(emb)\n",
    "            inputs_all.append(inputs)\n",
    "            final_embedding_layer_list.append(Concatenate()(embeddings))\n",
    "        return final_embedding_layer_list,inputs_all\n"
   ]
  },
  {
   "cell_type": "code",
   "execution_count": 20,
   "metadata": {
    "collapsed": true
   },
   "outputs": [],
   "source": [
    "def create_LSTM_layer(lstm_cell_size,embedding_size_list,batch_size,is_stateful):\n",
    "    \"\"\"\n",
    "    Create LSTM layer\n",
    "    ip: \n",
    "    lstm_cell_size: number of LSTM cells\n",
    "    op: list of LSTM layers\n",
    "    Logic: size of output = no. of embedding sizes to try i.e for a given LSTM cell number, create all possible valued embedding\\\n",
    "    layers.    \n",
    "    \"\"\"\n",
    "    lstm_layer_list=[]\n",
    "    embedding_layers_list,inputs = create_embedding_and_input_layers(embedding_size_list,batch_size,is_stateful)\n",
    "    for i,final_embs in enumerate(embedding_layers_list):\n",
    "        lstm_layer_list.append(LSTM(lstm_cell_size,dropout=0.6, recurrent_dropout=0.6)(final_embs))\n",
    "    return lstm_layer_list,inputs\n"
   ]
  },
  {
   "cell_type": "code",
   "execution_count": 21,
   "metadata": {
    "collapsed": true
   },
   "outputs": [],
   "source": [
    "def add_softmax(lstm_cell_size_list,embedding_size_list,batch_size,is_stateful,lstm_embedding_name_combinations):\n",
    "    \"\"\"\n",
    "    Add Dense layer with softmax activation on top the LSTM and Embedding layers\n",
    "    ip: \n",
    "    lstm_cell_size: number of unique LSTM cells values to try\n",
    "    embedding_size_list: list with embedding sizes to try\n",
    "    lstm_embedding_name_combinations: no. of lstm cells to try * no. of embedding to try\n",
    "    op: List of Models with all layers created\n",
    "    \"\"\"\n",
    "    models=[]\n",
    "    models_names=[]\n",
    "    no_of_em_to_try = len(embedding_size_list)\n",
    "    # Create one LSTM layer for each value\n",
    "    for i,lstm_cell_size in enumerate(lstm_cell_size_list):\n",
    "        lstm_layer_list,inputs = create_LSTM_layer(lstm_cell_size,embedding_size_list,batch_size,is_stateful)\n",
    "        '''\n",
    "        the input used for model creation, should come from same graph as input layer, so we index accordingly.\n",
    "        You need to keep this in mind, else it throws lot of keras compilation erros.\n",
    "        '''\n",
    "        \n",
    "        for j,lstm_layer in enumerate(lstm_layer_list): \n",
    "            preds = Dense(3, activation = 'softmax')(lstm_layer)\n",
    "            print(\"*\"*50)\n",
    "            print(\"Created {}_LSTM model with lstm cells {} embedding size {} \".format((is_stateful*\"stateful\"),\\\n",
    "                                                                      lstm_embedding_name_combinations[i*no_of_em_to_try+j][0],\\\n",
    "                                                                      lstm_embedding_name_combinations[i*no_of_em_to_try+j][1]))\n",
    "            print(\"*\"*50)\n",
    "            models.append(Model(inputs=inputs[j], outputs=preds))\n",
    "    return models"
   ]
  },
  {
   "cell_type": "code",
   "execution_count": 22,
   "metadata": {
    "collapsed": true
   },
   "outputs": [],
   "source": [
    "def build_models(is_stateful,embedding_size_list,epoch_list,lstm_cell_size_list):\n",
    "    batch_size=512\n",
    "    models = []\n",
    "    models_after_fit=[]\n",
    "    models_names=[]\n",
    "    \n",
    "    lstm_embedding_name_combinations = [(lstm_size,em_size) for lstm_size in lstm_cell_size_list\\\n",
    "                                        for em_size in embedding_size_list]\n",
    "    print(lstm_embedding_name_combinations)\n",
    "    models=add_softmax(lstm_cell_size_list,embedding_size_list,batch_size,is_stateful,lstm_embedding_name_combinations)\n",
    "        \n",
    "    for i,model in enumerate(models):\n",
    "        for e in epoch_list:\n",
    "            model.compile(optimizer='RMSProp', loss='categorical_crossentropy' ,metrics=['accuracy'])\n",
    "            K.set_value(model.optimizer.lr , 0.001)\n",
    "            initial_weights = model.get_weights()\n",
    "            model.fit(list_of_inputs,\n",
    "                      y_train,\n",
    "                      batch_size=512,\n",
    "                      epochs=e,\n",
    "                      validation_split=0.2,\n",
    "                      shuffle=False)\n",
    "            curr_eval = model.evaluate(list_of_inputs_test, y_test_cat, batch_size=512)\n",
    "            print(\"*\"*50)\n",
    "            print(\"Test accuracy after no. of epochs : \" + str(e) + \" accuracy is : \" + str(curr_eval[1]))\n",
    "            print(\"*\"*50)\n",
    "            models_after_fit.append(model)\n",
    "            name = (is_stateful*\"stateful\")+\"model_with_lstm_cells_\"+str(lstm_embedding_name_combinations[i][0])+\"_emb_size_\"\\\n",
    "                   +str(lstm_embedding_name_combinations[i][1])+\"_trained_for_\"+str(e)+\"_epochs\"\n",
    "            models_names.append(name)\n",
    "            model.save(name)\n",
    "            model.set_weights(initial_weights)\n",
    "    return models_after_fit,models_names"
   ]
  },
  {
   "cell_type": "markdown",
   "metadata": {},
   "source": [
    "## Results shown for combinations of embedding sizes and no. of LSTM cells as below."
   ]
  },
  {
   "cell_type": "code",
   "execution_count": 24,
   "metadata": {},
   "outputs": [
    {
     "name": "stdout",
     "output_type": "stream",
     "text": [
      "[(100, 75), (100, 85), (100, 100), (200, 75), (200, 85), (200, 100)]\n",
      "**************************************************\n",
      "Created stateful_LSTM model with lstm cells 100 embedding size 75 \n",
      "**************************************************\n",
      "**************************************************\n",
      "Created stateful_LSTM model with lstm cells 100 embedding size 85 \n",
      "**************************************************\n",
      "**************************************************\n",
      "Created stateful_LSTM model with lstm cells 100 embedding size 100 \n",
      "**************************************************\n",
      "**************************************************\n",
      "Created stateful_LSTM model with lstm cells 200 embedding size 75 \n",
      "**************************************************\n",
      "**************************************************\n",
      "Created stateful_LSTM model with lstm cells 200 embedding size 85 \n",
      "**************************************************\n",
      "**************************************************\n",
      "Created stateful_LSTM model with lstm cells 200 embedding size 100 \n",
      "**************************************************\n",
      "Train on 174080 samples, validate on 43520 samples\n",
      "Epoch 1/2\n",
      "174080/174080 [==============================] - 257s 1ms/step - loss: 0.5711 - acc: 0.7543 - val_loss: 0.4564 - val_acc: 0.8019\n",
      "Epoch 2/2\n",
      "174080/174080 [==============================] - 294s 2ms/step - loss: 0.2228 - acc: 0.9143 - val_loss: 0.3643 - val_acc: 0.9185\n",
      "31744/31744 [==============================] - 3s 95us/step\n",
      "**************************************************\n",
      "Test accuracy after no. of epochs : 2 accuracy is : 0.900075604839\n",
      "**************************************************\n",
      "Train on 174080 samples, validate on 43520 samples\n",
      "Epoch 1/2\n",
      "174080/174080 [==============================] - 312s 2ms/step - loss: 0.5831 - acc: 0.7464 - val_loss: 0.4550 - val_acc: 0.8046\n",
      "Epoch 2/2\n",
      "174080/174080 [==============================] - 305s 2ms/step - loss: 0.2166 - acc: 0.9174 - val_loss: 0.3675 - val_acc: 0.9159\n",
      "31744/31744 [==============================] - 3s 108us/step\n",
      "**************************************************\n",
      "Test accuracy after no. of epochs : 2 accuracy is : 0.900579637097\n",
      "**************************************************\n",
      "Train on 174080 samples, validate on 43520 samples\n",
      "Epoch 1/2\n",
      "174080/174080 [==============================] - 359s 2ms/step - loss: 0.5345 - acc: 0.7727 - val_loss: 0.3751 - val_acc: 0.8775\n",
      "Epoch 2/2\n",
      "174080/174080 [==============================] - 373s 2ms/step - loss: 0.1990 - acc: 0.9246 - val_loss: 0.3683 - val_acc: 0.9169\n",
      "31744/31744 [==============================] - 4s 122us/step\n",
      "**************************************************\n",
      "Test accuracy after no. of epochs : 2 accuracy is : 0.896578881048\n",
      "**************************************************\n",
      "Train on 174080 samples, validate on 43520 samples\n",
      "Epoch 1/2\n",
      "174080/174080 [==============================] - 303s 2ms/step - loss: 0.5767 - acc: 0.7525 - val_loss: 0.4546 - val_acc: 0.8061\n",
      "Epoch 2/2\n",
      "174080/174080 [==============================] - 296s 2ms/step - loss: 0.2188 - acc: 0.9167 - val_loss: 0.3555 - val_acc: 0.9186\n",
      "31744/31744 [==============================] - 4s 138us/step\n",
      "**************************************************\n",
      "Test accuracy after no. of epochs : 2 accuracy is : 0.900548135081\n",
      "**************************************************\n",
      "Train on 174080 samples, validate on 43520 samples\n",
      "Epoch 1/2\n",
      "174080/174080 [==============================] - 325s 2ms/step - loss: 0.5546 - acc: 0.7616 - val_loss: 0.4231 - val_acc: 0.8150\n",
      "Epoch 2/2\n",
      "174080/174080 [==============================] - 360s 2ms/step - loss: 0.2082 - acc: 0.9198 - val_loss: 0.3709 - val_acc: 0.9172\n",
      "31744/31744 [==============================] - 5s 144us/step\n",
      "**************************************************\n",
      "Test accuracy after no. of epochs : 2 accuracy is : 0.899036038306\n",
      "**************************************************\n",
      "Train on 174080 samples, validate on 43520 samples\n",
      "Epoch 1/2\n",
      "174080/174080 [==============================] - 381s 2ms/step - loss: 0.5213 - acc: 0.7792 - val_loss: 0.3772 - val_acc: 0.8745\n",
      "Epoch 2/2\n",
      "174080/174080 [==============================] - 386s 2ms/step - loss: 0.1935 - acc: 0.9265 - val_loss: 0.3761 - val_acc: 0.9171\n",
      "31744/31744 [==============================] - 5s 169us/step\n",
      "**************************************************\n",
      "Test accuracy after no. of epochs : 2 accuracy is : 0.898059475806\n",
      "**************************************************\n",
      "['statefulmodel_with_lstm_cells_100_emb_size_75_trained_for_2_epochs', 'statefulmodel_with_lstm_cells_100_emb_size_85_trained_for_2_epochs', 'statefulmodel_with_lstm_cells_100_emb_size_100_trained_for_2_epochs', 'statefulmodel_with_lstm_cells_200_emb_size_75_trained_for_2_epochs', 'statefulmodel_with_lstm_cells_200_emb_size_85_trained_for_2_epochs', 'statefulmodel_with_lstm_cells_200_emb_size_100_trained_for_2_epochs']\n"
     ]
    }
   ],
   "source": [
    "embedding_size_list = [75,85,100]\n",
    "epoch_list = [2]\n",
    "lstm_cell_size_list = [100,200]\n",
    "models_with_statefulLSTM,stateful_models_names=build_models(True,embedding_size_list,epoch_list,lstm_cell_size_list)\n",
    "print(stateful_models_names)"
   ]
  },
  {
   "cell_type": "code",
   "execution_count": 21,
   "metadata": {},
   "outputs": [
    {
     "name": "stdout",
     "output_type": "stream",
     "text": [
      "[(100, 75), (100, 85), (100, 100), (200, 75), (200, 85), (200, 100)]\n",
      "**************************************************\n",
      "Created _LSTM model with lstm cells 100 embedding size 75 \n",
      "**************************************************\n",
      "**************************************************\n",
      "Created _LSTM model with lstm cells 100 embedding size 85 \n",
      "**************************************************\n",
      "**************************************************\n",
      "Created _LSTM model with lstm cells 100 embedding size 100 \n",
      "**************************************************\n",
      "**************************************************\n",
      "Created _LSTM model with lstm cells 200 embedding size 75 \n",
      "**************************************************\n",
      "**************************************************\n",
      "Created _LSTM model with lstm cells 200 embedding size 85 \n",
      "**************************************************\n",
      "**************************************************\n",
      "Created _LSTM model with lstm cells 200 embedding size 100 \n",
      "**************************************************\n",
      "Train on 174080 samples, validate on 43520 samples\n",
      "Epoch 1/2\n",
      "174080/174080 [==============================] - 290s 2ms/step - loss: 0.5841 - acc: 0.7486 - val_loss: 0.4770 - val_acc: 0.7991\n",
      "Epoch 2/2\n",
      "174080/174080 [==============================] - 325s 2ms/step - loss: 0.2303 - acc: 0.9117 - val_loss: 0.3678 - val_acc: 0.9157\n",
      "31744/31744 [==============================] - 3s 103us/step\n",
      "**************************************************\n",
      "Test accuracy after no. of epochs : 2 accuracy is : 0.896673387097\n",
      "**************************************************\n",
      "Train on 174080 samples, validate on 43520 samples\n",
      "Epoch 1/2\n",
      "174080/174080 [==============================] - 310s 2ms/step - loss: 0.5732 - acc: 0.7534 - val_loss: 0.4312 - val_acc: 0.8223\n",
      "Epoch 2/2\n",
      "174080/174080 [==============================] - 322s 2ms/step - loss: 0.2177 - acc: 0.9166 - val_loss: 0.3627 - val_acc: 0.9186\n",
      "31744/31744 [==============================] - 4s 115us/step\n",
      "**************************************************\n",
      "Test accuracy after no. of epochs : 2 accuracy is : 0.899666078629\n",
      "**************************************************\n",
      "Train on 174080 samples, validate on 43520 samples\n",
      "Epoch 1/2\n",
      "174080/174080 [==============================] - 360s 2ms/step - loss: 0.5350 - acc: 0.7720 - val_loss: 0.3920 - val_acc: 0.8646\n",
      "Epoch 2/2\n",
      "174080/174080 [==============================] - 365s 2ms/step - loss: 0.2000 - acc: 0.9246 - val_loss: 0.3698 - val_acc: 0.9185\n",
      "31744/31744 [==============================] - 4s 134us/step\n",
      "**************************************************\n",
      "Test accuracy after no. of epochs : 2 accuracy is : 0.898626512097\n",
      "**************************************************\n",
      "Train on 174080 samples, validate on 43520 samples\n",
      "Epoch 1/2\n",
      "174080/174080 [==============================] - 313s 2ms/step - loss: 0.5653 - acc: 0.7584 - val_loss: 0.4783 - val_acc: 0.8019\n",
      "Epoch 2/2\n",
      "174080/174080 [==============================] - 326s 2ms/step - loss: 0.2206 - acc: 0.9157 - val_loss: 0.3736 - val_acc: 0.9166\n",
      "31744/31744 [==============================] - 4s 136us/step\n",
      "**************************************************\n",
      "Test accuracy after no. of epochs : 2 accuracy is : 0.897586945565\n",
      "**************************************************\n",
      "Train on 174080 samples, validate on 43520 samples\n",
      "Epoch 1/2\n",
      "174080/174080 [==============================] - 322s 2ms/step - loss: 0.5484 - acc: 0.7646 - val_loss: 0.4029 - val_acc: 0.8432\n",
      "Epoch 2/2\n",
      "174080/174080 [==============================] - 339s 2ms/step - loss: 0.2036 - acc: 0.9219 - val_loss: 0.3741 - val_acc: 0.9162\n",
      "31744/31744 [==============================] - 5s 162us/step\n",
      "**************************************************\n",
      "Test accuracy after no. of epochs : 2 accuracy is : 0.8984375\n",
      "**************************************************\n",
      "Train on 174080 samples, validate on 43520 samples\n",
      "Epoch 1/2\n",
      "174080/174080 [==============================] - 396s 2ms/step - loss: 0.5282 - acc: 0.7740 - val_loss: 0.3836 - val_acc: 0.8769\n",
      "Epoch 2/2\n",
      "174080/174080 [==============================] - 423s 2ms/step - loss: 0.1941 - acc: 0.9256 - val_loss: 0.3805 - val_acc: 0.9165\n",
      "31744/31744 [==============================] - 5s 171us/step\n",
      "**************************************************\n",
      "Test accuracy after no. of epochs : 2 accuracy is : 0.898752520161\n",
      "**************************************************\n"
     ]
    },
    {
     "ename": "NameError",
     "evalue": "name 'stateful_models_names2' is not defined",
     "output_type": "error",
     "traceback": [
      "\u001b[1;31m---------------------------------------------------------------------------\u001b[0m",
      "\u001b[1;31mNameError\u001b[0m                                 Traceback (most recent call last)",
      "\u001b[1;32m<ipython-input-21-ed2f4f17c778>\u001b[0m in \u001b[0;36m<module>\u001b[1;34m()\u001b[0m\n\u001b[0;32m      3\u001b[0m \u001b[0mlstm_cell_size_list\u001b[0m \u001b[1;33m=\u001b[0m \u001b[1;33m[\u001b[0m\u001b[1;36m100\u001b[0m\u001b[1;33m,\u001b[0m\u001b[1;36m200\u001b[0m\u001b[1;33m]\u001b[0m\u001b[1;33m\u001b[0m\u001b[0m\n\u001b[0;32m      4\u001b[0m \u001b[0mmodels_without_statefulLSTM\u001b[0m\u001b[1;33m,\u001b[0m\u001b[0mmodels_names\u001b[0m\u001b[1;33m=\u001b[0m\u001b[0mbuild_models\u001b[0m\u001b[1;33m(\u001b[0m\u001b[1;32mFalse\u001b[0m\u001b[1;33m,\u001b[0m\u001b[0membedding_size_list\u001b[0m\u001b[1;33m,\u001b[0m\u001b[0mepoch_list\u001b[0m\u001b[1;33m,\u001b[0m\u001b[0mlstm_cell_size_list\u001b[0m\u001b[1;33m)\u001b[0m\u001b[1;33m\u001b[0m\u001b[0m\n\u001b[1;32m----> 5\u001b[1;33m \u001b[0mprint\u001b[0m\u001b[1;33m(\u001b[0m\u001b[0mstateful_models_names2\u001b[0m\u001b[1;33m)\u001b[0m\u001b[1;33m\u001b[0m\u001b[0m\n\u001b[0m",
      "\u001b[1;31mNameError\u001b[0m: name 'stateful_models_names2' is not defined"
     ]
    }
   ],
   "source": [
    "embedding_size_list = [75,85,100]\n",
    "epoch_list = [2]\n",
    "lstm_cell_size_list = [100,200]\n",
    "models_without_statefulLSTM,models_names=build_models(False,embedding_size_list,epoch_list,lstm_cell_size_list)\n",
    "print(models_names)"
   ]
  },
  {
   "cell_type": "code",
   "execution_count": 23,
   "metadata": {},
   "outputs": [],
   "source": [
    "#restoring names to prevent training.\n",
    "stateful_models_names = ['statefulmodel_with_lstm_cells_100_emb_size_75_trained_for_2_epochs', 'statefulmodel_with_lstm_cells_100_emb_size_85_trained_for_2_epochs', 'statefulmodel_with_lstm_cells_100_emb_size_100_trained_for_2_epochs', 'statefulmodel_with_lstm_cells_200_emb_size_75_trained_for_2_epochs', 'statefulmodel_with_lstm_cells_200_emb_size_85_trained_for_2_epochs', 'statefulmodel_with_lstm_cells_200_emb_size_100_trained_for_2_epochs']\n",
    "models_names = ['model_with_lstm_cells_100_emb_size_75_trained_for_2_epochs', 'model_with_lstm_cells_100_emb_size_85_trained_for_2_epochs', 'model_with_lstm_cells_100_emb_size_100_trained_for_2_epochs', 'model_with_lstm_cells_200_emb_size_75_trained_for_2_epochs', 'model_with_lstm_cells_200_emb_size_85_trained_for_2_epochs', 'model_with_lstm_cells_200_emb_size_100_trained_for_2_epochs']"
   ]
  },
  {
   "cell_type": "code",
   "execution_count": 24,
   "metadata": {},
   "outputs": [
    {
     "name": "stdout",
     "output_type": "stream",
     "text": [
      "['statefulmodel_with_lstm_cells_100_emb_size_75_trained_for_2_epochs', 'statefulmodel_with_lstm_cells_100_emb_size_85_trained_for_2_epochs', 'statefulmodel_with_lstm_cells_100_emb_size_100_trained_for_2_epochs', 'statefulmodel_with_lstm_cells_200_emb_size_75_trained_for_2_epochs', 'statefulmodel_with_lstm_cells_200_emb_size_85_trained_for_2_epochs', 'statefulmodel_with_lstm_cells_200_emb_size_100_trained_for_2_epochs'] ['model_with_lstm_cells_100_emb_size_75_trained_for_2_epochs', 'model_with_lstm_cells_100_emb_size_85_trained_for_2_epochs', 'model_with_lstm_cells_100_emb_size_100_trained_for_2_epochs', 'model_with_lstm_cells_200_emb_size_75_trained_for_2_epochs', 'model_with_lstm_cells_200_emb_size_85_trained_for_2_epochs', 'model_with_lstm_cells_200_emb_size_100_trained_for_2_epochs']\n"
     ]
    }
   ],
   "source": [
    "print(stateful_models_names,models_names)"
   ]
  },
  {
   "cell_type": "markdown",
   "metadata": {},
   "source": [
    "The following summary statements are hardcoded, we will upload a generic notebook with all combinations in sometime."
   ]
  },
  {
   "cell_type": "markdown",
   "metadata": {},
   "source": [
    "## Explanation of Model Summary for Stateful Model"
   ]
  },
  {
   "cell_type": "markdown",
   "metadata": {},
   "source": [
    "Comments:\n",
    "In a stateful model all layers will have batch_size as first dimension size, i.e 512\n",
    "\n",
    "Input layer : caseId (InputLayer)             (512, 1)             0 \n",
    "Size is (512,1) 1 is because the input value for caseID is a scalar value\n",
    "\n",
    "emb_caseId (Embedding)          (512, 1, 85)         2426155        \n",
    "Size is (512,1,85) 85 is because the embedding size tried was 85\n",
    "The input scalar value is mapped to a 85 dimension space.\n",
    "\n",
    "concatenate_2 (Concatenate)     (512, 1, 3995)       0 \n",
    "3995 is 47*85 - this has concatenated all the embedding values for all input features\n",
    "\n",
    "## lstm_2 (LSTM)                   (512, 100)           1638400     \n",
    "\n",
    "No. of LSTM cells used = 100.\n",
    "No. of param = 1638400 - This is where the understanding of LSTM lies.\n",
    "1. Each LSTM cell has 4 separate weight matrices for input, forget, output, update(g) - 4\\*100\n",
    "2. Each of these weight matrices has a bias unit, 4\\*100\n",
    "|| = size of\n",
    "Total no. of param is hence ((|prev layer input| + |LSTM Cells|)\\*(4\\*|LSTM Cells|))+(4\\*|LSTM Cells|)\n",
    "i.e \n",
    "((prev layer input size+no. of lstm cells)\\*(no. of weight cells for all LSTM Cells))+(No. of bias units for all weight matrices for all lstm cells)\n",
    "\n",
    "Math with given numbers: \n",
    "term1 = (3995+100) = 4095\n",
    "term2 = no. of weights = 4\\*100 = 400\n",
    "term3 = no. of biases = 4\\*100 = 400\n",
    "total = (term1\\*term2)+term3 \n",
    "term1\\*term2= 4095\\*400 = 1638000\n",
    "## total = 1638400, as shown in \n",
    "\n",
    "\n",
    "\n",
    "dense_2 (Dense)                 (512, 3)             303        \n",
    "We have 3 categories as explained before, hence dimension 3.\n"
   ]
  },
  {
   "cell_type": "code",
   "execution_count": 26,
   "metadata": {},
   "outputs": [
    {
     "name": "stdout",
     "output_type": "stream",
     "text": [
      "__________________________________________________________________________________________________\n",
      "Layer (type)                    Output Shape         Param #     Connected to                     \n",
      "==================================================================================================\n",
      "caseId (InputLayer)             (512, 1)             0                                            \n",
      "__________________________________________________________________________________________________\n",
      "docketId (InputLayer)           (512, 1)             0                                            \n",
      "__________________________________________________________________________________________________\n",
      "caseIssuesId (InputLayer)       (512, 1)             0                                            \n",
      "__________________________________________________________________________________________________\n",
      "voteId (InputLayer)             (512, 1)             0                                            \n",
      "__________________________________________________________________________________________________\n",
      "dateDecision (InputLayer)       (512, 1)             0                                            \n",
      "__________________________________________________________________________________________________\n",
      "usCite (InputLayer)             (512, 1)             0                                            \n",
      "__________________________________________________________________________________________________\n",
      "sctCite (InputLayer)            (512, 1)             0                                            \n",
      "__________________________________________________________________________________________________\n",
      "ledCite (InputLayer)            (512, 1)             0                                            \n",
      "__________________________________________________________________________________________________\n",
      "lexisCite (InputLayer)          (512, 1)             0                                            \n",
      "__________________________________________________________________________________________________\n",
      "term (InputLayer)               (512, 1)             0                                            \n",
      "__________________________________________________________________________________________________\n",
      "naturalCourt (InputLayer)       (512, 1)             0                                            \n",
      "__________________________________________________________________________________________________\n",
      "chief (InputLayer)              (512, 1)             0                                            \n",
      "__________________________________________________________________________________________________\n",
      "docket (InputLayer)             (512, 1)             0                                            \n",
      "__________________________________________________________________________________________________\n",
      "caseName (InputLayer)           (512, 1)             0                                            \n",
      "__________________________________________________________________________________________________\n",
      "dateArgument (InputLayer)       (512, 1)             0                                            \n",
      "__________________________________________________________________________________________________\n",
      "dateRearg (InputLayer)          (512, 1)             0                                            \n",
      "__________________________________________________________________________________________________\n",
      "petitioner (InputLayer)         (512, 1)             0                                            \n",
      "__________________________________________________________________________________________________\n",
      "petitionerState (InputLayer)    (512, 1)             0                                            \n",
      "__________________________________________________________________________________________________\n",
      "respondent (InputLayer)         (512, 1)             0                                            \n",
      "__________________________________________________________________________________________________\n",
      "respondentState (InputLayer)    (512, 1)             0                                            \n",
      "__________________________________________________________________________________________________\n",
      "jurisdiction (InputLayer)       (512, 1)             0                                            \n",
      "__________________________________________________________________________________________________\n",
      "adminAction (InputLayer)        (512, 1)             0                                            \n",
      "__________________________________________________________________________________________________\n",
      "adminActionState (InputLayer)   (512, 1)             0                                            \n",
      "__________________________________________________________________________________________________\n",
      "threeJudgeFdc (InputLayer)      (512, 1)             0                                            \n",
      "__________________________________________________________________________________________________\n",
      "caseOrigin (InputLayer)         (512, 1)             0                                            \n",
      "__________________________________________________________________________________________________\n",
      "caseOriginState (InputLayer)    (512, 1)             0                                            \n",
      "__________________________________________________________________________________________________\n",
      "caseSource (InputLayer)         (512, 1)             0                                            \n",
      "__________________________________________________________________________________________________\n",
      "caseSourceState (InputLayer)    (512, 1)             0                                            \n",
      "__________________________________________________________________________________________________\n",
      "lcDisagreement (InputLayer)     (512, 1)             0                                            \n",
      "__________________________________________________________________________________________________\n",
      "certReason (InputLayer)         (512, 1)             0                                            \n",
      "__________________________________________________________________________________________________\n",
      "lcDisposition (InputLayer)      (512, 1)             0                                            \n",
      "__________________________________________________________________________________________________\n",
      "lcDispositionDirection (InputLa (512, 1)             0                                            \n",
      "__________________________________________________________________________________________________\n",
      "issue (InputLayer)              (512, 1)             0                                            \n",
      "__________________________________________________________________________________________________\n",
      "issueArea (InputLayer)          (512, 1)             0                                            \n",
      "__________________________________________________________________________________________________\n",
      "decisionDirection (InputLayer)  (512, 1)             0                                            \n",
      "__________________________________________________________________________________________________\n",
      "decisionDirectionDissent (Input (512, 1)             0                                            \n",
      "__________________________________________________________________________________________________\n",
      "authorityDecision1 (InputLayer) (512, 1)             0                                            \n",
      "__________________________________________________________________________________________________\n",
      "authorityDecision2 (InputLayer) (512, 1)             0                                            \n",
      "__________________________________________________________________________________________________\n",
      "lawType (InputLayer)            (512, 1)             0                                            \n",
      "__________________________________________________________________________________________________\n",
      "lawSupp (InputLayer)            (512, 1)             0                                            \n",
      "__________________________________________________________________________________________________\n",
      "lawMinor (InputLayer)           (512, 1)             0                                            \n",
      "__________________________________________________________________________________________________\n",
      "majOpinWriter (InputLayer)      (512, 1)             0                                            \n",
      "__________________________________________________________________________________________________\n",
      "majOpinAssigner (InputLayer)    (512, 1)             0                                            \n",
      "__________________________________________________________________________________________________\n",
      "justice (InputLayer)            (512, 1)             0                                            \n",
      "__________________________________________________________________________________________________\n",
      "justiceName (InputLayer)        (512, 1)             0                                            \n",
      "__________________________________________________________________________________________________\n",
      "majority (InputLayer)           (512, 1)             0                                            \n",
      "__________________________________________________________________________________________________\n",
      "lc_case_outcome_disposition (In (512, 1)             0                                            \n",
      "__________________________________________________________________________________________________\n",
      "emb_caseId (Embedding)          (512, 1, 85)         2426155     caseId[0][0]                     \n",
      "__________________________________________________________________________________________________\n",
      "emb_docketId (Embedding)        (512, 1, 85)         2426155     docketId[0][0]                   \n",
      "__________________________________________________________________________________________________\n",
      "emb_caseIssuesId (Embedding)    (512, 1, 85)         2426155     caseIssuesId[0][0]               \n",
      "__________________________________________________________________________________________________\n",
      "emb_voteId (Embedding)          (512, 1, 85)         21230365    voteId[0][0]                     \n",
      "__________________________________________________________________________________________________\n",
      "emb_dateDecision (Embedding)    (512, 1, 85)         492150      dateDecision[0][0]               \n",
      "__________________________________________________________________________________________________\n",
      "emb_usCite (Embedding)          (512, 1, 85)         2383655     usCite[0][0]                     \n",
      "__________________________________________________________________________________________________\n",
      "emb_sctCite (Embedding)         (512, 1, 85)         1838805     sctCite[0][0]                    \n",
      "__________________________________________________________________________________________________\n",
      "emb_ledCite (Embedding)         (512, 1, 85)         2346510     ledCite[0][0]                    \n",
      "__________________________________________________________________________________________________\n",
      "emb_lexisCite (Embedding)       (512, 1, 85)         2421565     lexisCite[0][0]                  \n",
      "__________________________________________________________________________________________________\n",
      "emb_term (Embedding)            (512, 1, 85)         18870       term[0][0]                       \n",
      "__________________________________________________________________________________________________\n",
      "emb_naturalCourt (Embedding)    (512, 1, 85)         8755        naturalCourt[0][0]               \n",
      "__________________________________________________________________________________________________\n",
      "emb_chief (Embedding)           (512, 1, 85)         1445        chief[0][0]                      \n",
      "__________________________________________________________________________________________________\n",
      "emb_docket (Embedding)          (512, 1, 85)         581315      docket[0][0]                     \n",
      "__________________________________________________________________________________________________\n",
      "emb_caseName (Embedding)        (512, 1, 85)         2322795     caseName[0][0]                   \n",
      "__________________________________________________________________________________________________\n",
      "emb_dateArgument (Embedding)    (512, 1, 85)         970360      dateArgument[0][0]               \n",
      "__________________________________________________________________________________________________\n",
      "emb_dateRearg (Embedding)       (512, 1, 85)         45645       dateRearg[0][0]                  \n",
      "__________________________________________________________________________________________________\n",
      "emb_petitioner (Embedding)      (512, 1, 85)         23120       petitioner[0][0]                 \n",
      "__________________________________________________________________________________________________\n",
      "emb_petitionerState (Embedding) (512, 1, 85)         4930        petitionerState[0][0]            \n",
      "__________________________________________________________________________________________________\n",
      "emb_respondent (Embedding)      (512, 1, 85)         21930       respondent[0][0]                 \n",
      "__________________________________________________________________________________________________\n",
      "emb_respondentState (Embedding) (512, 1, 85)         5015        respondentState[0][0]            \n",
      "__________________________________________________________________________________________________\n",
      "emb_jurisdiction (Embedding)    (512, 1, 85)         1275        jurisdiction[0][0]               \n",
      "__________________________________________________________________________________________________\n",
      "emb_adminAction (Embedding)     (512, 1, 85)         9860        adminAction[0][0]                \n",
      "__________________________________________________________________________________________________\n",
      "emb_adminActionState (Embedding (512, 1, 85)         4760        adminActionState[0][0]           \n",
      "__________________________________________________________________________________________________\n",
      "emb_threeJudgeFdc (Embedding)   (512, 1, 85)         255         threeJudgeFdc[0][0]              \n",
      "__________________________________________________________________________________________________\n",
      "emb_caseOrigin (Embedding)      (512, 1, 85)         17510       caseOrigin[0][0]                 \n",
      "__________________________________________________________________________________________________\n",
      "emb_caseOriginState (Embedding) (512, 1, 85)         4675        caseOriginState[0][0]            \n",
      "__________________________________________________________________________________________________\n",
      "emb_caseSource (Embedding)      (512, 1, 85)         15895       caseSource[0][0]                 \n",
      "__________________________________________________________________________________________________\n",
      "emb_caseSourceState (Embedding) (512, 1, 85)         4675        caseSourceState[0][0]            \n",
      "__________________________________________________________________________________________________\n",
      "emb_lcDisagreement (Embedding)  (512, 1, 85)         255         lcDisagreement[0][0]             \n",
      "__________________________________________________________________________________________________\n",
      "emb_certReason (Embedding)      (512, 1, 85)         1190        certReason[0][0]                 \n",
      "__________________________________________________________________________________________________\n",
      "emb_lcDisposition (Embedding)   (512, 1, 85)         1105        lcDisposition[0][0]              \n",
      "__________________________________________________________________________________________________\n",
      "emb_lcDispositionDirection (Emb (512, 1, 85)         340         lcDispositionDirection[0][0]     \n",
      "__________________________________________________________________________________________________\n",
      "emb_issue (Embedding)           (512, 1, 85)         23715       issue[0][0]                      \n",
      "__________________________________________________________________________________________________\n",
      "emb_issueArea (Embedding)       (512, 1, 85)         1275        issueArea[0][0]                  \n",
      "__________________________________________________________________________________________________\n",
      "emb_decisionDirection (Embeddin (512, 1, 85)         340         decisionDirection[0][0]          \n",
      "__________________________________________________________________________________________________\n",
      "emb_decisionDirectionDissent (E (512, 1, 85)         255         decisionDirectionDissent[0][0]   \n",
      "__________________________________________________________________________________________________\n",
      "emb_authorityDecision1 (Embeddi (512, 1, 85)         680         authorityDecision1[0][0]         \n",
      "__________________________________________________________________________________________________\n",
      "emb_authorityDecision2 (Embeddi (512, 1, 85)         680         authorityDecision2[0][0]         \n",
      "__________________________________________________________________________________________________\n",
      "emb_lawType (Embedding)         (512, 1, 85)         765         lawType[0][0]                    \n",
      "__________________________________________________________________________________________________\n",
      "emb_lawSupp (Embedding)         (512, 1, 85)         15895       lawSupp[0][0]                    \n",
      "__________________________________________________________________________________________________\n",
      "emb_lawMinor (Embedding)        (512, 1, 85)         246160      lawMinor[0][0]                   \n",
      "__________________________________________________________________________________________________\n",
      "emb_majOpinWriter (Embedding)   (512, 1, 85)         9265        majOpinWriter[0][0]              \n",
      "__________________________________________________________________________________________________\n",
      "emb_majOpinAssigner (Embedding) (512, 1, 85)         5270        majOpinAssigner[0][0]            \n",
      "__________________________________________________________________________________________________\n",
      "emb_justice (Embedding)         (512, 1, 85)         9690        justice[0][0]                    \n",
      "__________________________________________________________________________________________________\n",
      "emb_justiceName (Embedding)     (512, 1, 85)         9690        justiceName[0][0]                \n",
      "__________________________________________________________________________________________________\n",
      "emb_majority (Embedding)        (512, 1, 85)         255         majority[0][0]                   \n",
      "__________________________________________________________________________________________________\n",
      "emb_lc_case_outcome_disposition (512, 1, 85)         340         lc_case_outcome_disposition[0][0]\n",
      "__________________________________________________________________________________________________\n",
      "concatenate_8 (Concatenate)     (512, 1, 3995)       0           emb_caseId[0][0]                 \n",
      "                                                                 emb_docketId[0][0]               \n",
      "                                                                 emb_caseIssuesId[0][0]           \n",
      "                                                                 emb_voteId[0][0]                 \n",
      "                                                                 emb_dateDecision[0][0]           \n",
      "                                                                 emb_usCite[0][0]                 \n",
      "                                                                 emb_sctCite[0][0]                \n",
      "                                                                 emb_ledCite[0][0]                \n",
      "                                                                 emb_lexisCite[0][0]              \n",
      "                                                                 emb_term[0][0]                   \n",
      "                                                                 emb_naturalCourt[0][0]           \n",
      "                                                                 emb_chief[0][0]                  \n",
      "                                                                 emb_docket[0][0]                 \n",
      "                                                                 emb_caseName[0][0]               \n",
      "                                                                 emb_dateArgument[0][0]           \n",
      "                                                                 emb_dateRearg[0][0]              \n",
      "                                                                 emb_petitioner[0][0]             \n",
      "                                                                 emb_petitionerState[0][0]        \n",
      "                                                                 emb_respondent[0][0]             \n",
      "                                                                 emb_respondentState[0][0]        \n",
      "                                                                 emb_jurisdiction[0][0]           \n",
      "                                                                 emb_adminAction[0][0]            \n",
      "                                                                 emb_adminActionState[0][0]       \n",
      "                                                                 emb_threeJudgeFdc[0][0]          \n",
      "                                                                 emb_caseOrigin[0][0]             \n",
      "                                                                 emb_caseOriginState[0][0]        \n",
      "                                                                 emb_caseSource[0][0]             \n",
      "                                                                 emb_caseSourceState[0][0]        \n",
      "                                                                 emb_lcDisagreement[0][0]         \n",
      "                                                                 emb_certReason[0][0]             \n",
      "                                                                 emb_lcDisposition[0][0]          \n",
      "                                                                 emb_lcDispositionDirection[0][0] \n",
      "                                                                 emb_issue[0][0]                  \n",
      "                                                                 emb_issueArea[0][0]              \n",
      "                                                                 emb_decisionDirection[0][0]      \n",
      "                                                                 emb_decisionDirectionDissent[0][0\n",
      "                                                                 emb_authorityDecision1[0][0]     \n",
      "                                                                 emb_authorityDecision2[0][0]     \n",
      "                                                                 emb_lawType[0][0]                \n",
      "                                                                 emb_lawSupp[0][0]                \n",
      "                                                                 emb_lawMinor[0][0]               \n",
      "                                                                 emb_majOpinWriter[0][0]          \n",
      "                                                                 emb_majOpinAssigner[0][0]        \n",
      "                                                                 emb_justice[0][0]                \n",
      "                                                                 emb_justiceName[0][0]            \n",
      "                                                                 emb_majority[0][0]               \n",
      "                                                                 emb_lc_case_outcome_disposition[0\n",
      "__________________________________________________________________________________________________\n",
      "lstm_8 (LSTM)                   (512, 100)           1638400     concatenate_8[0][0]              \n",
      "__________________________________________________________________________________________________\n",
      "dense_8 (Dense)                 (512, 3)             303         lstm_8[0][0]                     \n",
      "==================================================================================================\n",
      "Total params: 44,020,468\n",
      "Trainable params: 44,020,468\n",
      "Non-trainable params: 0\n",
      "__________________________________________________________________________________________________\n"
     ]
    }
   ],
   "source": [
    "models_with_statefulLSTM[1].summary()"
   ]
  },
  {
   "cell_type": "markdown",
   "metadata": {},
   "source": [
    "## Explanation of Model Summary for Normal LSTM Model"
   ]
  },
  {
   "cell_type": "markdown",
   "metadata": {},
   "source": [
    "Comments:\n",
    "Explanation is same as stateful model, except \n",
    "1. batch_size doesn't define dimension.\n",
    "2. Amount of data doesn't have to be divisible by batch_size either.\n"
   ]
  },
  {
   "cell_type": "code",
   "execution_count": 27,
   "metadata": {},
   "outputs": [
    {
     "name": "stdout",
     "output_type": "stream",
     "text": [
      "__________________________________________________________________________________________________\n",
      "Layer (type)                    Output Shape         Param #     Connected to                     \n",
      "==================================================================================================\n",
      "caseId (InputLayer)             (None, 1)            0                                            \n",
      "__________________________________________________________________________________________________\n",
      "docketId (InputLayer)           (None, 1)            0                                            \n",
      "__________________________________________________________________________________________________\n",
      "caseIssuesId (InputLayer)       (None, 1)            0                                            \n",
      "__________________________________________________________________________________________________\n",
      "voteId (InputLayer)             (None, 1)            0                                            \n",
      "__________________________________________________________________________________________________\n",
      "dateDecision (InputLayer)       (None, 1)            0                                            \n",
      "__________________________________________________________________________________________________\n",
      "usCite (InputLayer)             (None, 1)            0                                            \n",
      "__________________________________________________________________________________________________\n",
      "sctCite (InputLayer)            (None, 1)            0                                            \n",
      "__________________________________________________________________________________________________\n",
      "ledCite (InputLayer)            (None, 1)            0                                            \n",
      "__________________________________________________________________________________________________\n",
      "lexisCite (InputLayer)          (None, 1)            0                                            \n",
      "__________________________________________________________________________________________________\n",
      "term (InputLayer)               (None, 1)            0                                            \n",
      "__________________________________________________________________________________________________\n",
      "naturalCourt (InputLayer)       (None, 1)            0                                            \n",
      "__________________________________________________________________________________________________\n",
      "chief (InputLayer)              (None, 1)            0                                            \n",
      "__________________________________________________________________________________________________\n",
      "docket (InputLayer)             (None, 1)            0                                            \n",
      "__________________________________________________________________________________________________\n",
      "caseName (InputLayer)           (None, 1)            0                                            \n",
      "__________________________________________________________________________________________________\n",
      "dateArgument (InputLayer)       (None, 1)            0                                            \n",
      "__________________________________________________________________________________________________\n",
      "dateRearg (InputLayer)          (None, 1)            0                                            \n",
      "__________________________________________________________________________________________________\n",
      "petitioner (InputLayer)         (None, 1)            0                                            \n",
      "__________________________________________________________________________________________________\n",
      "petitionerState (InputLayer)    (None, 1)            0                                            \n",
      "__________________________________________________________________________________________________\n",
      "respondent (InputLayer)         (None, 1)            0                                            \n",
      "__________________________________________________________________________________________________\n",
      "respondentState (InputLayer)    (None, 1)            0                                            \n",
      "__________________________________________________________________________________________________\n",
      "jurisdiction (InputLayer)       (None, 1)            0                                            \n",
      "__________________________________________________________________________________________________\n",
      "adminAction (InputLayer)        (None, 1)            0                                            \n",
      "__________________________________________________________________________________________________\n",
      "adminActionState (InputLayer)   (None, 1)            0                                            \n",
      "__________________________________________________________________________________________________\n",
      "threeJudgeFdc (InputLayer)      (None, 1)            0                                            \n",
      "__________________________________________________________________________________________________\n",
      "caseOrigin (InputLayer)         (None, 1)            0                                            \n",
      "__________________________________________________________________________________________________\n",
      "caseOriginState (InputLayer)    (None, 1)            0                                            \n",
      "__________________________________________________________________________________________________\n",
      "caseSource (InputLayer)         (None, 1)            0                                            \n",
      "__________________________________________________________________________________________________\n",
      "caseSourceState (InputLayer)    (None, 1)            0                                            \n",
      "__________________________________________________________________________________________________\n",
      "lcDisagreement (InputLayer)     (None, 1)            0                                            \n",
      "__________________________________________________________________________________________________\n",
      "certReason (InputLayer)         (None, 1)            0                                            \n",
      "__________________________________________________________________________________________________\n",
      "lcDisposition (InputLayer)      (None, 1)            0                                            \n",
      "__________________________________________________________________________________________________\n",
      "lcDispositionDirection (InputLa (None, 1)            0                                            \n",
      "__________________________________________________________________________________________________\n",
      "issue (InputLayer)              (None, 1)            0                                            \n",
      "__________________________________________________________________________________________________\n",
      "issueArea (InputLayer)          (None, 1)            0                                            \n",
      "__________________________________________________________________________________________________\n",
      "decisionDirection (InputLayer)  (None, 1)            0                                            \n",
      "__________________________________________________________________________________________________\n",
      "decisionDirectionDissent (Input (None, 1)            0                                            \n",
      "__________________________________________________________________________________________________\n",
      "authorityDecision1 (InputLayer) (None, 1)            0                                            \n",
      "__________________________________________________________________________________________________\n",
      "authorityDecision2 (InputLayer) (None, 1)            0                                            \n",
      "__________________________________________________________________________________________________\n",
      "lawType (InputLayer)            (None, 1)            0                                            \n",
      "__________________________________________________________________________________________________\n",
      "lawSupp (InputLayer)            (None, 1)            0                                            \n",
      "__________________________________________________________________________________________________\n",
      "lawMinor (InputLayer)           (None, 1)            0                                            \n",
      "__________________________________________________________________________________________________\n",
      "majOpinWriter (InputLayer)      (None, 1)            0                                            \n",
      "__________________________________________________________________________________________________\n",
      "majOpinAssigner (InputLayer)    (None, 1)            0                                            \n",
      "__________________________________________________________________________________________________\n",
      "justice (InputLayer)            (None, 1)            0                                            \n",
      "__________________________________________________________________________________________________\n",
      "justiceName (InputLayer)        (None, 1)            0                                            \n",
      "__________________________________________________________________________________________________\n",
      "majority (InputLayer)           (None, 1)            0                                            \n",
      "__________________________________________________________________________________________________\n",
      "lc_case_outcome_disposition (In (None, 1)            0                                            \n",
      "__________________________________________________________________________________________________\n",
      "emb_caseId (Embedding)          (None, 1, 85)        2426155     caseId[0][0]                     \n",
      "__________________________________________________________________________________________________\n",
      "emb_docketId (Embedding)        (None, 1, 85)        2426155     docketId[0][0]                   \n",
      "__________________________________________________________________________________________________\n",
      "emb_caseIssuesId (Embedding)    (None, 1, 85)        2426155     caseIssuesId[0][0]               \n",
      "__________________________________________________________________________________________________\n",
      "emb_voteId (Embedding)          (None, 1, 85)        21230365    voteId[0][0]                     \n",
      "__________________________________________________________________________________________________\n",
      "emb_dateDecision (Embedding)    (None, 1, 85)        492150      dateDecision[0][0]               \n",
      "__________________________________________________________________________________________________\n",
      "emb_usCite (Embedding)          (None, 1, 85)        2383655     usCite[0][0]                     \n",
      "__________________________________________________________________________________________________\n",
      "emb_sctCite (Embedding)         (None, 1, 85)        1838805     sctCite[0][0]                    \n",
      "__________________________________________________________________________________________________\n",
      "emb_ledCite (Embedding)         (None, 1, 85)        2346510     ledCite[0][0]                    \n",
      "__________________________________________________________________________________________________\n",
      "emb_lexisCite (Embedding)       (None, 1, 85)        2421565     lexisCite[0][0]                  \n",
      "__________________________________________________________________________________________________\n",
      "emb_term (Embedding)            (None, 1, 85)        18870       term[0][0]                       \n",
      "__________________________________________________________________________________________________\n",
      "emb_naturalCourt (Embedding)    (None, 1, 85)        8755        naturalCourt[0][0]               \n",
      "__________________________________________________________________________________________________\n",
      "emb_chief (Embedding)           (None, 1, 85)        1445        chief[0][0]                      \n",
      "__________________________________________________________________________________________________\n",
      "emb_docket (Embedding)          (None, 1, 85)        581315      docket[0][0]                     \n",
      "__________________________________________________________________________________________________\n",
      "emb_caseName (Embedding)        (None, 1, 85)        2322795     caseName[0][0]                   \n",
      "__________________________________________________________________________________________________\n",
      "emb_dateArgument (Embedding)    (None, 1, 85)        970360      dateArgument[0][0]               \n",
      "__________________________________________________________________________________________________\n",
      "emb_dateRearg (Embedding)       (None, 1, 85)        45645       dateRearg[0][0]                  \n",
      "__________________________________________________________________________________________________\n",
      "emb_petitioner (Embedding)      (None, 1, 85)        23120       petitioner[0][0]                 \n",
      "__________________________________________________________________________________________________\n",
      "emb_petitionerState (Embedding) (None, 1, 85)        4930        petitionerState[0][0]            \n",
      "__________________________________________________________________________________________________\n",
      "emb_respondent (Embedding)      (None, 1, 85)        21930       respondent[0][0]                 \n",
      "__________________________________________________________________________________________________\n",
      "emb_respondentState (Embedding) (None, 1, 85)        5015        respondentState[0][0]            \n",
      "__________________________________________________________________________________________________\n",
      "emb_jurisdiction (Embedding)    (None, 1, 85)        1275        jurisdiction[0][0]               \n",
      "__________________________________________________________________________________________________\n",
      "emb_adminAction (Embedding)     (None, 1, 85)        9860        adminAction[0][0]                \n",
      "__________________________________________________________________________________________________\n",
      "emb_adminActionState (Embedding (None, 1, 85)        4760        adminActionState[0][0]           \n",
      "__________________________________________________________________________________________________\n",
      "emb_threeJudgeFdc (Embedding)   (None, 1, 85)        255         threeJudgeFdc[0][0]              \n",
      "__________________________________________________________________________________________________\n",
      "emb_caseOrigin (Embedding)      (None, 1, 85)        17510       caseOrigin[0][0]                 \n",
      "__________________________________________________________________________________________________\n",
      "emb_caseOriginState (Embedding) (None, 1, 85)        4675        caseOriginState[0][0]            \n",
      "__________________________________________________________________________________________________\n",
      "emb_caseSource (Embedding)      (None, 1, 85)        15895       caseSource[0][0]                 \n",
      "__________________________________________________________________________________________________\n",
      "emb_caseSourceState (Embedding) (None, 1, 85)        4675        caseSourceState[0][0]            \n",
      "__________________________________________________________________________________________________\n",
      "emb_lcDisagreement (Embedding)  (None, 1, 85)        255         lcDisagreement[0][0]             \n",
      "__________________________________________________________________________________________________\n",
      "emb_certReason (Embedding)      (None, 1, 85)        1190        certReason[0][0]                 \n",
      "__________________________________________________________________________________________________\n",
      "emb_lcDisposition (Embedding)   (None, 1, 85)        1105        lcDisposition[0][0]              \n",
      "__________________________________________________________________________________________________\n",
      "emb_lcDispositionDirection (Emb (None, 1, 85)        340         lcDispositionDirection[0][0]     \n",
      "__________________________________________________________________________________________________\n",
      "emb_issue (Embedding)           (None, 1, 85)        23715       issue[0][0]                      \n",
      "__________________________________________________________________________________________________\n",
      "emb_issueArea (Embedding)       (None, 1, 85)        1275        issueArea[0][0]                  \n",
      "__________________________________________________________________________________________________\n",
      "emb_decisionDirection (Embeddin (None, 1, 85)        340         decisionDirection[0][0]          \n",
      "__________________________________________________________________________________________________\n",
      "emb_decisionDirectionDissent (E (None, 1, 85)        255         decisionDirectionDissent[0][0]   \n",
      "__________________________________________________________________________________________________\n",
      "emb_authorityDecision1 (Embeddi (None, 1, 85)        680         authorityDecision1[0][0]         \n",
      "__________________________________________________________________________________________________\n",
      "emb_authorityDecision2 (Embeddi (None, 1, 85)        680         authorityDecision2[0][0]         \n",
      "__________________________________________________________________________________________________\n",
      "emb_lawType (Embedding)         (None, 1, 85)        765         lawType[0][0]                    \n",
      "__________________________________________________________________________________________________\n",
      "emb_lawSupp (Embedding)         (None, 1, 85)        15895       lawSupp[0][0]                    \n",
      "__________________________________________________________________________________________________\n",
      "emb_lawMinor (Embedding)        (None, 1, 85)        246160      lawMinor[0][0]                   \n",
      "__________________________________________________________________________________________________\n",
      "emb_majOpinWriter (Embedding)   (None, 1, 85)        9265        majOpinWriter[0][0]              \n",
      "__________________________________________________________________________________________________\n",
      "emb_majOpinAssigner (Embedding) (None, 1, 85)        5270        majOpinAssigner[0][0]            \n",
      "__________________________________________________________________________________________________\n",
      "emb_justice (Embedding)         (None, 1, 85)        9690        justice[0][0]                    \n",
      "__________________________________________________________________________________________________\n",
      "emb_justiceName (Embedding)     (None, 1, 85)        9690        justiceName[0][0]                \n",
      "__________________________________________________________________________________________________\n",
      "emb_majority (Embedding)        (None, 1, 85)        255         majority[0][0]                   \n",
      "__________________________________________________________________________________________________\n",
      "emb_lc_case_outcome_disposition (None, 1, 85)        340         lc_case_outcome_disposition[0][0]\n",
      "__________________________________________________________________________________________________\n",
      "concatenate_2 (Concatenate)     (None, 1, 3995)      0           emb_caseId[0][0]                 \n",
      "                                                                 emb_docketId[0][0]               \n",
      "                                                                 emb_caseIssuesId[0][0]           \n",
      "                                                                 emb_voteId[0][0]                 \n",
      "                                                                 emb_dateDecision[0][0]           \n",
      "                                                                 emb_usCite[0][0]                 \n",
      "                                                                 emb_sctCite[0][0]                \n",
      "                                                                 emb_ledCite[0][0]                \n",
      "                                                                 emb_lexisCite[0][0]              \n",
      "                                                                 emb_term[0][0]                   \n",
      "                                                                 emb_naturalCourt[0][0]           \n",
      "                                                                 emb_chief[0][0]                  \n",
      "                                                                 emb_docket[0][0]                 \n",
      "                                                                 emb_caseName[0][0]               \n",
      "                                                                 emb_dateArgument[0][0]           \n",
      "                                                                 emb_dateRearg[0][0]              \n",
      "                                                                 emb_petitioner[0][0]             \n",
      "                                                                 emb_petitionerState[0][0]        \n",
      "                                                                 emb_respondent[0][0]             \n",
      "                                                                 emb_respondentState[0][0]        \n",
      "                                                                 emb_jurisdiction[0][0]           \n",
      "                                                                 emb_adminAction[0][0]            \n",
      "                                                                 emb_adminActionState[0][0]       \n",
      "                                                                 emb_threeJudgeFdc[0][0]          \n",
      "                                                                 emb_caseOrigin[0][0]             \n",
      "                                                                 emb_caseOriginState[0][0]        \n",
      "                                                                 emb_caseSource[0][0]             \n",
      "                                                                 emb_caseSourceState[0][0]        \n",
      "                                                                 emb_lcDisagreement[0][0]         \n",
      "                                                                 emb_certReason[0][0]             \n",
      "                                                                 emb_lcDisposition[0][0]          \n",
      "                                                                 emb_lcDispositionDirection[0][0] \n",
      "                                                                 emb_issue[0][0]                  \n",
      "                                                                 emb_issueArea[0][0]              \n",
      "                                                                 emb_decisionDirection[0][0]      \n",
      "                                                                 emb_decisionDirectionDissent[0][0\n",
      "                                                                 emb_authorityDecision1[0][0]     \n",
      "                                                                 emb_authorityDecision2[0][0]     \n",
      "                                                                 emb_lawType[0][0]                \n",
      "                                                                 emb_lawSupp[0][0]                \n",
      "                                                                 emb_lawMinor[0][0]               \n",
      "                                                                 emb_majOpinWriter[0][0]          \n",
      "                                                                 emb_majOpinAssigner[0][0]        \n",
      "                                                                 emb_justice[0][0]                \n",
      "                                                                 emb_justiceName[0][0]            \n",
      "                                                                 emb_majority[0][0]               \n",
      "                                                                 emb_lc_case_outcome_disposition[0\n",
      "__________________________________________________________________________________________________\n",
      "lstm_2 (LSTM)                   (None, 100)          1638400     concatenate_2[0][0]              \n",
      "__________________________________________________________________________________________________\n",
      "dense_2 (Dense)                 (None, 3)            303         lstm_2[0][0]                     \n",
      "==================================================================================================\n",
      "Total params: 44,020,468\n",
      "Trainable params: 44,020,468\n",
      "Non-trainable params: 0\n",
      "__________________________________________________________________________________________________\n"
     ]
    }
   ],
   "source": [
    "models_without_statefulLSTM[1].summary()"
   ]
  },
  {
   "cell_type": "code",
   "execution_count": 26,
   "metadata": {},
   "outputs": [
    {
     "name": "stdout",
     "output_type": "stream",
     "text": [
      "Test Accuracy Calculation after loading model  statefulmodel_with_lstm_cells_100_emb_size_75_trained_for_2_epochs\n",
      "31744/31744 [==============================] - 3s 109us/step\n",
      "Test Accuracy Calculation after loading model  statefulmodel_with_lstm_cells_100_emb_size_85_trained_for_2_epochs\n",
      "31744/31744 [==============================] - 4s 125us/step\n",
      "Test Accuracy Calculation after loading model  statefulmodel_with_lstm_cells_100_emb_size_100_trained_for_2_epochs\n",
      "31744/31744 [==============================] - 5s 143us/step\n",
      "Test Accuracy Calculation after loading model  statefulmodel_with_lstm_cells_200_emb_size_75_trained_for_2_epochs\n",
      "31744/31744 [==============================] - 5s 151us/step\n",
      "Test Accuracy Calculation after loading model  statefulmodel_with_lstm_cells_200_emb_size_85_trained_for_2_epochs\n",
      "31744/31744 [==============================] - 5s 167us/step\n",
      "Test Accuracy Calculation after loading model  statefulmodel_with_lstm_cells_200_emb_size_100_trained_for_2_epochs\n",
      "31744/31744 [==============================] - 6s 192us/step\n",
      "Test Accuracy Calculation after loading model  model_with_lstm_cells_100_emb_size_75_trained_for_2_epochs\n",
      "31744/31744 [==============================] - 4s 137us/step\n",
      "Test Accuracy Calculation after loading model  model_with_lstm_cells_100_emb_size_85_trained_for_2_epochs\n",
      "31744/31744 [==============================] - 5s 157us/step\n",
      "Test Accuracy Calculation after loading model  model_with_lstm_cells_100_emb_size_100_trained_for_2_epochs\n",
      "31744/31744 [==============================] - 6s 178us/step\n",
      "Test Accuracy Calculation after loading model  model_with_lstm_cells_200_emb_size_75_trained_for_2_epochs\n",
      "31744/31744 [==============================] - 6s 181us/step\n",
      "Test Accuracy Calculation after loading model  model_with_lstm_cells_200_emb_size_85_trained_for_2_epochs\n",
      "31744/31744 [==============================] - 7s 208us/step\n",
      "Test Accuracy Calculation after loading model  model_with_lstm_cells_200_emb_size_100_trained_for_2_epochs\n",
      "31744/31744 [==============================] - 7s 223us/step\n",
      "stateful accuracies  [0.90007560483870963, 0.90057963709677424, 0.89657888104838712, 0.90054813508064513, 0.89903603830645162, 0.89805947580645162]\n",
      "normal_accuracies [0.89667338709677424, 0.89966607862903225, 0.89862651209677424, 0.89758694556451613, 0.8984375, 0.89875252016129037]\n"
     ]
    }
   ],
   "source": [
    "stateful_accuracies = []\n",
    "normal_accuracies=[]\n",
    "stateful_prediction = []\n",
    "normal_prediction = []\n",
    "for i,sm in enumerate(stateful_models_names):\n",
    "    print(\"Test Accuracy Calculation after loading model \", stateful_models_names[i])\n",
    "    model_stateful = load_model(stateful_models_names[i])\n",
    "    stateful_accuracies.append(model_stateful.evaluate(list_of_inputs_test, y_test_cat, batch_size=512)[1])\n",
    "    stateful_prediction.append(model_stateful.predict(list_of_inputs_test, batch_size=512))\n",
    "for i,m in enumerate(models_names):\n",
    "    print(\"Test Accuracy Calculation after loading model \", models_names[i])\n",
    "    model = load_model(models_names[i])\n",
    "    normal_accuracies.append(model.evaluate(list_of_inputs_test, y_test_cat, batch_size=512)[1])\n",
    "    normal_prediction.append(model.predict(list_of_inputs_test, batch_size=512))\n",
    "print(\"stateful accuracies \",stateful_accuracies)\n",
    "print(\"normal_accuracies\",normal_accuracies)"
   ]
  },
  {
   "cell_type": "code",
   "execution_count": 27,
   "metadata": {
    "collapsed": true
   },
   "outputs": [],
   "source": [
    "y_test=y_test_cat"
   ]
  },
  {
   "cell_type": "code",
   "execution_count": 30,
   "metadata": {},
   "outputs": [
    {
     "data": {
      "text/plain": [
       "<matplotlib.legend.Legend at 0x1faefbc9b38>"
      ]
     },
     "execution_count": 30,
     "metadata": {},
     "output_type": "execute_result"
    },
    {
     "data": {
      "image/png": "[encoded data removed]",
      "text/plain": [
       "<matplotlib.figure.Figure at 0x1fa9f548d30>"
      ]
     },
     "metadata": {},
     "output_type": "display_data"
    }
   ],
   "source": [
    "best_model_stateful = load_model(stateful_models_names[np.argmax(stateful_accuracies)])\n",
    "best_model_without_stateful = load_model(models_names[np.argmax(normal_accuracies)])\n",
    "\n",
    "preds_model_stateful = best_model_stateful.predict(list_of_inputs_test,batch_size=512)\n",
    "preds_model_stateful = np.argmax(preds_model_stateful, axis = 1)\n",
    "\n",
    "preds_model_without_stateful = best_model_without_stateful.predict(list_of_inputs_test,batch_size=512)\n",
    "preds_model_without_stateful = np.argmax(preds_model_without_stateful, axis = 1)\n",
    "\n",
    "preds_model_stateful_df = pandas.DataFrame(preds_model_stateful, columns=['model_stateful_predictions'])\n",
    "preds_model_without_stateful_df = pandas.DataFrame(preds_model_without_stateful, columns=['model_without_stateful_predictions'])\n",
    "years = feature_df[['term_raw']]\n",
    "years.head(2)\n",
    "years_test = years[-len(y_test) :]\n",
    "years_test = years_test.reset_index()\n",
    "years_test.head(2)\n",
    "\n",
    "raw_data.loc[raw_data['justice_outcome_disposition'] == -1] = 2\n",
    "justice_test = raw_data[len(y_train) :len(y_train)+len(y_test)]\n",
    "justice_test = justice_test.reset_index()\n",
    "\n",
    "temp_df = pandas.concat([preds_model_stateful_df, preds_model_without_stateful_df], axis =1)\n",
    "temp_df = pandas.concat([temp_df, justice_test[['justice_outcome_disposition']]], axis = 1)\n",
    "temp_df = pandas.concat([temp_df, years_test[['term_raw']]], axis=1)\n",
    "\n",
    "per_year_avg_preds_model_stateful = temp_df.groupby(\"term_raw\")[\"model_stateful_predictions\"].mean()\n",
    "per_year_avg_preds_model_without_stateful = temp_df.groupby(\"term_raw\")[\"model_without_stateful_predictions\"].mean()\n",
    "per_year_avg_true_model = temp_df.groupby(\"term_raw\")[\"justice_outcome_disposition\"].mean()\n",
    "\n",
    "f = plt.figure(figsize=(12, 10))\n",
    "plt.plot(per_year_avg_preds_model_stateful, color = 'b')\n",
    "plt.plot(per_year_avg_preds_model_without_stateful, color = 'r')\n",
    "plt.plot(per_year_avg_true_model, color = 'y')\n",
    "plt.legend(('Model Stateful', 'Model without Stateful', 'True'))"
   ]
  },
  {
   "cell_type": "code",
   "execution_count": 31,
   "metadata": {
    "collapsed": true
   },
   "outputs": [],
   "source": [
    "best_model_stateful = load_model(stateful_models_names[np.argmax(stateful_accuracies)])\n",
    "best_model_without_stateful = load_model(models_names[np.argmax(normal_accuracies)])\n",
    "\n",
    "preds_model_stateful = best_model_stateful.predict(list_of_inputs_test,batch_size=512)\n",
    "preds_model_stateful = np.argmax(preds_model_stateful, axis = 1)\n",
    "\n",
    "preds_model_without_stateful = best_model_without_stateful.predict(list_of_inputs_test,batch_size=512)\n",
    "preds_model_without_stateful = np.argmax(preds_model_without_stateful, axis = 1)"
   ]
  },
  {
   "cell_type": "code",
   "execution_count": 32,
   "metadata": {},
   "outputs": [
    {
     "name": "stdout",
     "output_type": "stream",
     "text": [
      "             precision    recall  f1-score   support\n",
      "\n",
      "          0       0.89      0.87      0.88     11562\n",
      "          1       0.91      0.94      0.93     17707\n",
      "          2       0.84      0.79      0.81      2475\n",
      "\n",
      "avg / total       0.90      0.90      0.90     31744\n",
      "\n",
      "[[10021  1424   117]\n",
      " [  844 16613   250]\n",
      " [  387   134  1954]]\n",
      "0.900579637097\n"
     ]
    }
   ],
   "source": [
    "print(sklearn.metrics.classification_report(preds_model_stateful, np.argmax(y_test, axis =1 )))\n",
    "print(sklearn.metrics.confusion_matrix(preds_model_stateful, np.argmax(y_test, axis =1 )))\n",
    "print(sklearn.metrics.accuracy_score(preds_model_stateful, np.argmax(y_test, axis =1 )))"
   ]
  },
  {
   "cell_type": "code",
   "execution_count": 33,
   "metadata": {},
   "outputs": [
    {
     "name": "stdout",
     "output_type": "stream",
     "text": [
      "             precision    recall  f1-score   support\n",
      "\n",
      "          0       0.89      0.87      0.88     11572\n",
      "          1       0.91      0.94      0.93     17718\n",
      "          2       0.83      0.78      0.81      2454\n",
      "\n",
      "avg / total       0.90      0.90      0.90     31744\n",
      "\n",
      "[[10022  1415   135]\n",
      " [  843 16613   262]\n",
      " [  387   143  1924]]\n",
      "0.899666078629\n"
     ]
    }
   ],
   "source": [
    "print(sklearn.metrics.classification_report(preds_model_without_stateful, np.argmax(y_test, axis =1 )))\n",
    "print(sklearn.metrics.confusion_matrix(preds_model_without_stateful, np.argmax(y_test, axis =1 )))\n",
    "print(sklearn.metrics.accuracy_score(preds_model_without_stateful, np.argmax(y_test, axis =1 )))"
   ]
  },
  {
   "cell_type": "code",
   "execution_count": null,
   "metadata": {
    "collapsed": true
   },
   "outputs": [],
   "source": []
  }
 ],
 "metadata": {
  "kernelspec": {
   "display_name": "Python 3",
   "language": "python",
   "name": "python3"
  },
  "language_info": {
   "codemirror_mode": {
    "name": "ipython",
    "version": 3
   },
   "file_extension": ".py",
   "mimetype": "text/x-python",
   "name": "python",
   "nbconvert_exporter": "python",
   "pygments_lexer": "ipython3",
   "version": "3.6.3"
  },
  "toc": {
   "nav_menu": {},
   "number_sections": true,
   "sideBar": true,
   "skip_h1_title": false,
   "toc_cell": false,
   "toc_position": {},
   "toc_section_display": "block",
   "toc_window_display": false
  },
  "widgets": {
   "state": {},
   "version": "1.1.2"
  }
 },
 "nbformat": 4,
 "nbformat_minor": 2
}
